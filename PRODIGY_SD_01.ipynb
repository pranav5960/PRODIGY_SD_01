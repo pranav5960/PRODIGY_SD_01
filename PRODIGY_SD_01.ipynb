{
  "nbformat": 4,
  "nbformat_minor": 0,
  "metadata": {
    "colab": {
      "provenance": [],
      "authorship_tag": "ABX9TyNNSbVs4rebkANFvAt70UBo",
      "include_colab_link": true
    },
    "kernelspec": {
      "name": "python3",
      "display_name": "Python 3"
    },
    "language_info": {
      "name": "python"
    }
  },
  "cells": [
    {
      "cell_type": "markdown",
      "metadata": {
        "id": "view-in-github",
        "colab_type": "text"
      },
      "source": [
        "<a href=\"https://colab.research.google.com/github/pranav5960/PRODIGY_SD_01/blob/main/PRODIGY_SD_01.ipynb\" target=\"_parent\"><img src=\"https://colab.research.google.com/assets/colab-badge.svg\" alt=\"Open In Colab\"/></a>"
      ]
    },
    {
      "cell_type": "code",
      "source": [
        "def convert_temperature():\n",
        "  \"\"\"Converts temperatures between Celsius, Fahrenheit, and Kelvin.\"\"\"\n",
        "\n",
        "  temp = float(input(\"Enter temperature value: \"))\n",
        "  unit = input(\"Enter original unit (C, F, or K): \").upper()\n",
        "\n",
        "  if unit == 'C':\n",
        "    fahrenheit = (temp * 9/5) + 32\n",
        "    kelvin = temp + 273.15\n",
        "    print(f\"{temp}°C is equal to {fahrenheit:.2f}°F and {kelvin:.2f}K\")\n",
        "  elif unit == 'F':\n",
        "    celsius = (temp - 32) * 5/9\n",
        "    kelvin = (temp - 32) * 5/9 + 273.15\n",
        "    print(f\"{temp}°F is equal to {celsius:.2f}°C and {kelvin:.2f}K\")\n",
        "  elif unit == 'K':\n",
        "    celsius = temp - 273.15\n",
        "    fahrenheit = (temp - 273.15) * 9/5 + 32\n",
        "    print(f\"{temp}K is equal to {celsius:.2f}°C and {fahrenheit:.2f}°F\")\n",
        "  else:\n",
        "    print(\"Invalid unit. Please enter C, F, or K.\")\n",
        "\n",
        "convert_temperature()"
      ],
      "metadata": {
        "colab": {
          "base_uri": "https://localhost:8080/"
        },
        "id": "O9eXpfukqg9H",
        "outputId": "48372c2e-fa2f-49e7-9727-0907e1bf4669"
      },
      "execution_count": 2,
      "outputs": [
        {
          "output_type": "stream",
          "name": "stdout",
          "text": [
            "Enter temperature value: 25\n",
            "Enter original unit (C, F, or K): C\n",
            "25.0°C is equal to 77.00°F and 298.15K\n"
          ]
        }
      ]
    }
  ]
}